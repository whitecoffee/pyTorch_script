{
 "cells": [
  {
   "cell_type": "code",
   "execution_count": null,
   "metadata": {
    "collapsed": false
   },
   "outputs": [],
   "source": [
    "import torch\n",
    "\n",
    "dtype = torch.FloatTensor\n",
    "\n",
    "N, D_in, H, D_out = 64, 1000, 100, 10\n",
    "x = torch.randn(N, D_in).type(dtype)\n",
    "y = torch.randn(N, D_out).type(dtype)\n",
    "w1 = torch.randn(D_in, H).type(dtype)\n",
    "w2 = torch.randn(H, D_out).type(dtype)\n",
    "\n",
    "learning_rate = 1e-6\n",
    "for t in range(500):\n",
    "    h = x.mm(w1)\n",
    "    h_relu = h.clamp(min=0)\n",
    "    y_pred = h_relu.mm(w2)\n",
    "    loss = (y_pred - y).pow(2).sum()\n",
    "    \n",
    "    grad_y_pred = 2.0 * (y_pred - y)\n",
    "    grad_w2 = h_relu.t().mm(grad_y_pred)\n",
    "    grad_h_relu = grad_y_pred.mm(w2.t())\n",
    "    grad_h = grad_h_relu.clone()\n",
    "    grad_h[h < 0] = 0\n",
    "    grad_w1 = x.t().mm(grad_h)\n",
    "    \n",
    "    w1 -= learning_rate * grad_w1\n",
    "    w2 -= learning_rate * grad_w2"
   ]
  },
  {
   "cell_type": "code",
   "execution_count": 3,
   "metadata": {
    "collapsed": false
   },
   "outputs": [],
   "source": [
    "import torch\n",
    "import scipy.io as sio\n",
    "import numpy as np\n",
    "from torch.autograd import Variable\n",
    "\n",
    "N, D_in, H, D_out = 3, 150, 100, 30\n",
    "\n",
    "# Create random Tensors to hold inputs and outputs\n",
    "x = torch.randn(N, D_in)\n",
    "y = torch.randn(N, D_out)\n",
    "\n",
    "data = sio.loadmat('./data/data1.mat')\n",
    "Data = data['Data']\n",
    "\n",
    "x[0, :] = Variable(torch.from_numpy(np.resize(Data[1:, 0:75], (1, 150))), requires_grad = False)\n",
    "x[1, :] = Variable(torch.from_numpy(np.resize(Data[1:, 100:175], (1, 150))), requires_grad = False)\n",
    "x[2, :] = Variable(torch.from_numpy(np.resize(Data[1:, 200:275], (1, 150))), requires_grad = False)\n",
    "\n",
    "y[0, :] = Variable(torch.from_numpy(np.resize(Data[1:, 75:100], (1, 30))), requires_grad = False)\n",
    "y[1, :] = Variable(torch.from_numpy(np.resize(Data[1:, 175:200], (1, 30))), requires_grad = False)\n",
    "y[2, :] = Variable(torch.from_numpy(np.resize(Data[1:, 275:300], (1, 30))), requires_grad = False)\n",
    "\n",
    "model = torch.nn.Sequential(\n",
    "    torch.nn.Linear(D_in, H),\n",
    "    torch.nn.ReLU(),\n",
    "    torch.nn.Linear(H, D_out),\n",
    ")\n",
    "\n",
    "loss_fn = torch.nn.MSELoss(size_average=False)\n",
    "optimizer = torch.optim.Adam(model.parameters(), lr=1e-4)\n",
    "for t in range(500):\n",
    "    y_pred = model(x)\n",
    "    \n",
    "    loss = loss_fn(y_pred, y)\n",
    "    print(t, loss.item())\n",
    "    \n",
    "    optimizer.zero_grad()\n",
    "    loss.backward()\n",
    "    optimizer.step()"
   ]
  },
  {
   "cell_type": "code",
   "execution_count": 6,
   "metadata": {
    "collapsed": false,
    "scrolled": true
   },
   "outputs": [
    {
     "name": "stdout",
     "output_type": "stream",
     "text": [
      "tensor(1.00000e-02 *\n",
      "       [[ 0.7210,  1.0509,  0.9670,  1.2839,  1.2720,  1.2729,  1.0839,\n",
      "          1.1753,  0.8236,  0.7961,  0.5047,  0.1467, -0.0821, -0.5722,\n",
      "         -0.9372, -1.1471, -1.8283, -1.9664, -2.4244, -2.8458, -3.3614,\n",
      "         -3.3714, -4.0794, -4.3264, -4.6112, -4.3925, -4.3985, -4.5063,\n",
      "         -5.3391, -5.5995],\n",
      "        [ 1.8499,  1.6606,  1.9483,  1.4660,  2.0130,  2.0905,  1.6189,\n",
      "          1.2760,  1.6426,  0.9710,  0.5107, -0.4188, -0.2721, -0.4566,\n",
      "         -0.9098, -1.0786, -2.0061, -1.8368, -2.7015, -3.1587, -3.2948,\n",
      "         -3.9502, -4.5877, -4.1090, -4.4478, -4.3675, -4.5240, -5.0399,\n",
      "         -5.3941, -5.5566],\n",
      "        [ 1.0519,  1.2899,  1.2702,  1.5221,  0.8749,  0.5770,  0.8308,\n",
      "          0.5169, -0.2606, -0.3071, -0.4623, -0.1300, -1.0925, -1.4677,\n",
      "         -1.7225, -2.4120, -1.8386, -2.9714, -2.7527, -3.0147, -3.4634,\n",
      "         -3.7329, -3.3563, -4.4910, -4.5095, -4.9101, -5.6640, -5.8914,\n",
      "         -5.5003, -5.9162]])\n"
     ]
    }
   ],
   "source": [
    "print(y_pred)"
   ]
  },
  {
   "cell_type": "code",
   "execution_count": 7,
   "metadata": {
    "collapsed": true
   },
   "outputs": [],
   "source": [
    "y_test = model(x[0, :])"
   ]
  },
  {
   "cell_type": "code",
   "execution_count": 10,
   "metadata": {
    "collapsed": false
   },
   "outputs": [
    {
     "name": "stdout",
     "output_type": "stream",
     "text": [
      "499 0.002105274936184287\n"
     ]
    }
   ],
   "source": [
    "print(t, loss.item())"
   ]
  },
  {
   "cell_type": "code",
   "execution_count": 29,
   "metadata": {
    "collapsed": true
   },
   "outputs": [],
   "source": [
    "torch.save(y_pred, 'y_pred.pt')"
   ]
  },
  {
   "cell_type": "code",
   "execution_count": 35,
   "metadata": {
    "collapsed": false
   },
   "outputs": [],
   "source": [
    "demo1 = sio.loadmat('./demo1.mat')\n",
    "Demo1 = demo1['expData']\n",
    "\n",
    "y_np = np.zeros([N, D_out])\n",
    "y_np[0, :] = np.resize(Data[1:, 75:100], (1, 30))\n",
    "y_np[1, :] = np.resize(Data[1:, 175:200], (1, 30))\n",
    "y_np[2, :] = np.resize(Data[1:, 275:300], (1, 30))\n",
    "\n",
    "\n",
    "gmm_out[0, :] = np.resize(Demo1[1:, 75:100], (1, 30))\n",
    "\n",
    "gmm_loss = np.sum(np.square(gmm_out - y_np))\n",
    "print(gmm_loss)"
   ]
  },
  {
   "cell_type": "code",
   "execution_count": 36,
   "metadata": {
    "collapsed": false,
    "scrolled": true
   },
   "outputs": [
    {
     "name": "stdout",
     "output_type": "stream",
     "text": [
      "0.00522926537905\n"
     ]
    }
   ],
   "source": [
    "print(gmm_loss)"
   ]
  },
  {
   "cell_type": "code",
   "execution_count": 34,
   "metadata": {
    "collapsed": false
   },
   "outputs": [
    {
     "name": "stdout",
     "output_type": "stream",
     "text": [
      "[array([[1, 0, 0, 0],\n",
      "       [0, 1, 0, 0],\n",
      "       [0, 0, 1, 0],\n",
      "       [0, 0, 0, 1]]), array([[1, 1, 1, 0],\n",
      "       [1, 1, 0, 0],\n",
      "       [1, 0, 1, 1],\n",
      "       [0, 0, 1, 1]]), array([[3, 2, 2, 1],\n",
      "       [2, 2, 1, 0],\n",
      "       [2, 1, 3, 2],\n",
      "       [1, 0, 2, 2]]), array([[7, 5, 6, 3],\n",
      "       [5, 4, 3, 1],\n",
      "       [6, 3, 7, 5],\n",
      "       [3, 1, 5, 4]])]\n"
     ]
    }
   ],
   "source": [
    "import numpy as np\n",
    "\n",
    "A = np.array([[1, 1, 1, 0],[1, 1, 0, 0],[1, 0, 1, 1],[0, 0, 1, 1]])\n",
    "b = [np.linalg.matrix_power(A, i) for i in range(5)]\n",
    "print(b)\n",
    "c = (np.stack(b) > 0"
   ]
  }
 ],
 "metadata": {
  "anaconda-cloud": {},
  "kernelspec": {
   "display_name": "Python [default]",
   "language": "python",
   "name": "python3"
  },
  "language_info": {
   "codemirror_mode": {
    "name": "ipython",
    "version": 3
   },
   "file_extension": ".py",
   "mimetype": "text/x-python",
   "name": "python",
   "nbconvert_exporter": "python",
   "pygments_lexer": "ipython3",
   "version": "3.5.2"
  }
 },
 "nbformat": 4,
 "nbformat_minor": 2
}
